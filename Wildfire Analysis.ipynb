{
 "cells": [
  {
   "cell_type": "markdown",
   "metadata": {},
   "source": [
    "# Wildfires in the United States\n",
    "Samantha Maillie and Ariel Sim"
   ]
  },
  {
   "cell_type": "markdown",
   "metadata": {},
   "source": [
    "# Background"
   ]
  },
  {
   "cell_type": "markdown",
   "metadata": {},
   "source": [
    "Every year wildfires cost billions which is hardly comparable to the lives lost from wildfires, (1). Utilizing an SQL database containing information on 1.88 million wildfires nationwide we want to investigate if we are able to predict the cause of the fire by examine size and location. Why is this important? Understanding this relationship deeper can help fine tune policies designed to prevent wildfires. Once these blazes get to a certain point it gets very difficult to control them which means our best bet in protecting ourselves is making sure they never begin. If they do begin we need to have the information to implement proper evacuation procedures that covers the appropriate area, understanding these relationships could offer insight into this problem as well. \n",
    "\n",
    "Our plan is to do some preliminary analysis to determine which classifications algorithms best suit our problem. We will then implement the relevant procedures and compare them using numerous methods including k-fold cross validation and confusion matrices. \n",
    "\n",
    "Why this dataset? We wanted a dataset that could offer insight into a problem we are familiar with. This dataset found at the link below is large, informative and not excessively worked over like many of the datasets easily accessible online. This offers us the opportunity to discover new conclusions from the dataset as opposed to essentially replicating results. "
   ]
  },
  {
   "cell_type": "markdown",
   "metadata": {},
   "source": [
    "# Dataset Description"
   ]
  },
  {
   "cell_type": "markdown",
   "metadata": {},
   "source": [
    "This dataset was originally designed for the use of the Fire Protection Agency, (FPA). It contains 1.88 million datapoints with information on wildfires nationwide between the years 1992 and 2015, (2). The goal of this datset's publication on kaggle is to investigate the relationship between the size, location and cause of wildfires, (2). Our project aims to tackle this problem. \n",
    "\n",
    "The database in considerably large and can be downloaded via this link: \n",
    "https://www.kaggle.com/rtatman/188-million-us-wildfires"
   ]
  },
  {
   "cell_type": "code",
   "execution_count": 3,
   "metadata": {
    "collapsed": true
   },
   "outputs": [],
   "source": [
    "import sqlite3 as sql\n",
    "%matplotlib inline\n",
    "\n",
    "import matplotlib.pyplot as plt\n",
    "import pandas as pd"
   ]
  },
  {
   "cell_type": "code",
   "execution_count": 4,
   "metadata": {
    "collapsed": true
   },
   "outputs": [],
   "source": [
    "db = sql.connect(\"FPA_FOD_20170508.sqlite\")"
   ]
  },
  {
   "cell_type": "markdown",
   "metadata": {
    "collapsed": true
   },
   "source": [
    "# Preliminary Analysis"
   ]
  },
  {
   "cell_type": "markdown",
   "metadata": {},
   "source": [
    "## NA's "
   ]
  },
  {
   "cell_type": "code",
   "execution_count": null,
   "metadata": {
    "collapsed": true
   },
   "outputs": [],
   "source": []
  },
  {
   "cell_type": "markdown",
   "metadata": {},
   "source": [
    "## Split into Train/Test"
   ]
  },
  {
   "cell_type": "code",
   "execution_count": null,
   "metadata": {
    "collapsed": true
   },
   "outputs": [],
   "source": []
  },
  {
   "cell_type": "markdown",
   "metadata": {},
   "source": [
    "## Investigative Plots"
   ]
  },
  {
   "cell_type": "code",
   "execution_count": null,
   "metadata": {
    "collapsed": true
   },
   "outputs": [],
   "source": []
  },
  {
   "cell_type": "markdown",
   "metadata": {},
   "source": [
    "# Model Selection"
   ]
  },
  {
   "cell_type": "code",
   "execution_count": null,
   "metadata": {
    "collapsed": true
   },
   "outputs": [],
   "source": []
  },
  {
   "cell_type": "markdown",
   "metadata": {},
   "source": [
    "# Model Validation\n",
    "k fold cv, ROC curves, confusion matrices, precision recall"
   ]
  },
  {
   "cell_type": "code",
   "execution_count": null,
   "metadata": {
    "collapsed": true
   },
   "outputs": [],
   "source": []
  },
  {
   "cell_type": "markdown",
   "metadata": {},
   "source": [
    "# Conclusions"
   ]
  },
  {
   "cell_type": "markdown",
   "metadata": {},
   "source": []
  },
  {
   "cell_type": "markdown",
   "metadata": {},
   "source": [
    "# Future Research"
   ]
  },
  {
   "cell_type": "markdown",
   "metadata": {},
   "source": []
  },
  {
   "cell_type": "markdown",
   "metadata": {},
   "source": [
    "# Sources"
   ]
  },
  {
   "cell_type": "markdown",
   "metadata": {},
   "source": [
    "1. Press, Associated. “The Costs to Fight the Deadly Wildfires in the West Are Spiraling out of Control.” Business Insider, Business Insider, 15 Oct. 2017, www.businessinsider.com/ap-us-states-struggle-to-pay-spiraling-cost-of-fighting-fires-2017-10.\n",
    "\n",
    "2. Tatman, Rachael. “1.88 Million US Wildfires | Kaggle.” Countries of the World | Kaggle, 13 Sept. 2017, www.kaggle.com/rtatman/188-million-us-wildfires."
   ]
  },
  {
   "cell_type": "code",
   "execution_count": null,
   "metadata": {
    "collapsed": true
   },
   "outputs": [],
   "source": []
  }
 ],
 "metadata": {
  "kernelspec": {
   "display_name": "Python 3",
   "language": "python",
   "name": "python3"
  },
  "language_info": {
   "codemirror_mode": {
    "name": "ipython",
    "version": 3
   },
   "file_extension": ".py",
   "mimetype": "text/x-python",
   "name": "python",
   "nbconvert_exporter": "python",
   "pygments_lexer": "ipython3",
   "version": "3.6.3"
  }
 },
 "nbformat": 4,
 "nbformat_minor": 2
}
